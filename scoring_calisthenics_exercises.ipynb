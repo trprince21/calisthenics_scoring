{
  "cells": [
    {
      "cell_type": "code",
      "execution_count": 28,
      "metadata": {
        "colab": {
          "base_uri": "https://localhost:8080/",
          "height": 39
        },
        "id": "wM2H4TZ7YoGw",
        "outputId": "8c192121-859e-4d2e-9f91-0b7daa7dd210"
      },
      "outputs": [
        {
          "output_type": "display_data",
          "data": {
            "text/plain": [
              "<IPython.core.display.HTML object>"
            ],
            "text/html": [
              "\n",
              "     <input type=\"file\" id=\"files-4f4d2ae6-dcc7-4e44-8a5c-b42a310e8fc1\" name=\"files[]\" multiple disabled\n",
              "        style=\"border:none\" />\n",
              "     <output id=\"result-4f4d2ae6-dcc7-4e44-8a5c-b42a310e8fc1\">\n",
              "      Upload widget is only available when the cell has been executed in the\n",
              "      current browser session. Please rerun this cell to enable.\n",
              "      </output>\n",
              "      <script>// Copyright 2017 Google LLC\n",
              "//\n",
              "// Licensed under the Apache License, Version 2.0 (the \"License\");\n",
              "// you may not use this file except in compliance with the License.\n",
              "// You may obtain a copy of the License at\n",
              "//\n",
              "//      http://www.apache.org/licenses/LICENSE-2.0\n",
              "//\n",
              "// Unless required by applicable law or agreed to in writing, software\n",
              "// distributed under the License is distributed on an \"AS IS\" BASIS,\n",
              "// WITHOUT WARRANTIES OR CONDITIONS OF ANY KIND, either express or implied.\n",
              "// See the License for the specific language governing permissions and\n",
              "// limitations under the License.\n",
              "\n",
              "/**\n",
              " * @fileoverview Helpers for google.colab Python module.\n",
              " */\n",
              "(function(scope) {\n",
              "function span(text, styleAttributes = {}) {\n",
              "  const element = document.createElement('span');\n",
              "  element.textContent = text;\n",
              "  for (const key of Object.keys(styleAttributes)) {\n",
              "    element.style[key] = styleAttributes[key];\n",
              "  }\n",
              "  return element;\n",
              "}\n",
              "\n",
              "// Max number of bytes which will be uploaded at a time.\n",
              "const MAX_PAYLOAD_SIZE = 100 * 1024;\n",
              "\n",
              "function _uploadFiles(inputId, outputId) {\n",
              "  const steps = uploadFilesStep(inputId, outputId);\n",
              "  const outputElement = document.getElementById(outputId);\n",
              "  // Cache steps on the outputElement to make it available for the next call\n",
              "  // to uploadFilesContinue from Python.\n",
              "  outputElement.steps = steps;\n",
              "\n",
              "  return _uploadFilesContinue(outputId);\n",
              "}\n",
              "\n",
              "// This is roughly an async generator (not supported in the browser yet),\n",
              "// where there are multiple asynchronous steps and the Python side is going\n",
              "// to poll for completion of each step.\n",
              "// This uses a Promise to block the python side on completion of each step,\n",
              "// then passes the result of the previous step as the input to the next step.\n",
              "function _uploadFilesContinue(outputId) {\n",
              "  const outputElement = document.getElementById(outputId);\n",
              "  const steps = outputElement.steps;\n",
              "\n",
              "  const next = steps.next(outputElement.lastPromiseValue);\n",
              "  return Promise.resolve(next.value.promise).then((value) => {\n",
              "    // Cache the last promise value to make it available to the next\n",
              "    // step of the generator.\n",
              "    outputElement.lastPromiseValue = value;\n",
              "    return next.value.response;\n",
              "  });\n",
              "}\n",
              "\n",
              "/**\n",
              " * Generator function which is called between each async step of the upload\n",
              " * process.\n",
              " * @param {string} inputId Element ID of the input file picker element.\n",
              " * @param {string} outputId Element ID of the output display.\n",
              " * @return {!Iterable<!Object>} Iterable of next steps.\n",
              " */\n",
              "function* uploadFilesStep(inputId, outputId) {\n",
              "  const inputElement = document.getElementById(inputId);\n",
              "  inputElement.disabled = false;\n",
              "\n",
              "  const outputElement = document.getElementById(outputId);\n",
              "  outputElement.innerHTML = '';\n",
              "\n",
              "  const pickedPromise = new Promise((resolve) => {\n",
              "    inputElement.addEventListener('change', (e) => {\n",
              "      resolve(e.target.files);\n",
              "    });\n",
              "  });\n",
              "\n",
              "  const cancel = document.createElement('button');\n",
              "  inputElement.parentElement.appendChild(cancel);\n",
              "  cancel.textContent = 'Cancel upload';\n",
              "  const cancelPromise = new Promise((resolve) => {\n",
              "    cancel.onclick = () => {\n",
              "      resolve(null);\n",
              "    };\n",
              "  });\n",
              "\n",
              "  // Wait for the user to pick the files.\n",
              "  const files = yield {\n",
              "    promise: Promise.race([pickedPromise, cancelPromise]),\n",
              "    response: {\n",
              "      action: 'starting',\n",
              "    }\n",
              "  };\n",
              "\n",
              "  cancel.remove();\n",
              "\n",
              "  // Disable the input element since further picks are not allowed.\n",
              "  inputElement.disabled = true;\n",
              "\n",
              "  if (!files) {\n",
              "    return {\n",
              "      response: {\n",
              "        action: 'complete',\n",
              "      }\n",
              "    };\n",
              "  }\n",
              "\n",
              "  for (const file of files) {\n",
              "    const li = document.createElement('li');\n",
              "    li.append(span(file.name, {fontWeight: 'bold'}));\n",
              "    li.append(span(\n",
              "        `(${file.type || 'n/a'}) - ${file.size} bytes, ` +\n",
              "        `last modified: ${\n",
              "            file.lastModifiedDate ? file.lastModifiedDate.toLocaleDateString() :\n",
              "                                    'n/a'} - `));\n",
              "    const percent = span('0% done');\n",
              "    li.appendChild(percent);\n",
              "\n",
              "    outputElement.appendChild(li);\n",
              "\n",
              "    const fileDataPromise = new Promise((resolve) => {\n",
              "      const reader = new FileReader();\n",
              "      reader.onload = (e) => {\n",
              "        resolve(e.target.result);\n",
              "      };\n",
              "      reader.readAsArrayBuffer(file);\n",
              "    });\n",
              "    // Wait for the data to be ready.\n",
              "    let fileData = yield {\n",
              "      promise: fileDataPromise,\n",
              "      response: {\n",
              "        action: 'continue',\n",
              "      }\n",
              "    };\n",
              "\n",
              "    // Use a chunked sending to avoid message size limits. See b/62115660.\n",
              "    let position = 0;\n",
              "    do {\n",
              "      const length = Math.min(fileData.byteLength - position, MAX_PAYLOAD_SIZE);\n",
              "      const chunk = new Uint8Array(fileData, position, length);\n",
              "      position += length;\n",
              "\n",
              "      const base64 = btoa(String.fromCharCode.apply(null, chunk));\n",
              "      yield {\n",
              "        response: {\n",
              "          action: 'append',\n",
              "          file: file.name,\n",
              "          data: base64,\n",
              "        },\n",
              "      };\n",
              "\n",
              "      let percentDone = fileData.byteLength === 0 ?\n",
              "          100 :\n",
              "          Math.round((position / fileData.byteLength) * 100);\n",
              "      percent.textContent = `${percentDone}% done`;\n",
              "\n",
              "    } while (position < fileData.byteLength);\n",
              "  }\n",
              "\n",
              "  // All done.\n",
              "  yield {\n",
              "    response: {\n",
              "      action: 'complete',\n",
              "    }\n",
              "  };\n",
              "}\n",
              "\n",
              "scope.google = scope.google || {};\n",
              "scope.google.colab = scope.google.colab || {};\n",
              "scope.google.colab._files = {\n",
              "  _uploadFiles,\n",
              "  _uploadFilesContinue,\n",
              "};\n",
              "})(self);\n",
              "</script> "
            ]
          },
          "metadata": {}
        }
      ],
      "source": [
        "from google.colab import files\n",
        "uploaded = files.upload()\n",
        "# download dataset onto device and then select file from \"Choose Files\" button"
      ]
    },
    {
      "cell_type": "code",
      "source": [
        "from google.colab import drive\n",
        "drive.mount('/content/drive')"
      ],
      "metadata": {
        "colab": {
          "base_uri": "https://localhost:8080/"
        },
        "id": "pnQ9EmWFX0Kn",
        "outputId": "40bb0cbf-88df-46d6-a00f-12667209f9df"
      },
      "execution_count": 29,
      "outputs": [
        {
          "output_type": "stream",
          "name": "stdout",
          "text": [
            "Drive already mounted at /content/drive; to attempt to forcibly remount, call drive.mount(\"/content/drive\", force_remount=True).\n"
          ]
        }
      ]
    },
    {
      "cell_type": "code",
      "execution_count": 30,
      "metadata": {
        "id": "hnVz31cAZxkQ"
      },
      "outputs": [],
      "source": [
        "import pandas as pd\n",
        "import numpy as np\n",
        "from numpy import inf\n",
        "# import io\n",
        "# df = pd.read_csv(io.BytesIO(uploaded['Calisthenics Data - Sheet1.csv']))\n",
        "df = pd.read_csv('Calisthenics Data - Sheet1.csv')"
      ]
    },
    {
      "cell_type": "code",
      "source": [
        "## Removing the values as detailed in the \"Meeting Questions\" file\n",
        "## (for now based on Omari's feedback):\n",
        "\n",
        "# remove half reps\n",
        "df = df[(pd.isna(df['HR/FR'])) | (df['HR/FR'] != 'HR')]\n",
        "\n",
        "# remove zeros\n",
        "df = df[df['Reps'] > 0]\n",
        "\n",
        "# remove freeform\n",
        "df = df[df['FF/PR/PB'] != 'FF']\n",
        "\n",
        "# remove untimed\n",
        "df = df[((df['Exercise'] != 3) & (df['Time Format'] != 'UNTIMED')) | (df['Exercise'] == 3)]"
      ],
      "metadata": {
        "id": "GIPqnlLrvGh4"
      },
      "execution_count": 31,
      "outputs": []
    },
    {
      "cell_type": "code",
      "execution_count": 32,
      "metadata": {
        "id": "Zv9JKdM5aCqf"
      },
      "outputs": [],
      "source": [
        "# split into exercises\n",
        "e1 = df[df['Exercise'] == 1]\n",
        "e2 = df[df['Exercise'] == 2]\n",
        "e3 = df[df['Exercise'] == 3]\n",
        "e4 = df[df['Exercise'] == 4]\n",
        "e5 = df[df['Exercise'] == 5]"
      ]
    },
    {
      "cell_type": "code",
      "source": [
        "# standardize the reps for each exercise to have a mean of 0 and a standard\n",
        "# deviation (sigma) of 1\n",
        "e1['Scaled'] = (e1['Reps'] - np.mean(e1['Reps']))/np.std(e1['Reps'])\n",
        "e2['Scaled'] = (e2['Reps'] - np.mean(e2['Reps']))/np.std(e2['Reps'])\n",
        "e3['Scaled'] = (e3['Reps'] - np.mean(e3['Reps']))/np.std(e3['Reps'])\n",
        "e4['Scaled'] = (e4['Reps'] - np.mean(e4['Reps']))/np.std(e4['Reps'])\n",
        "e5['Scaled'] = (e5['Reps'] - np.mean(e5['Reps']))/np.std(e5['Reps'])\n",
        "\n",
        "## (Note that by standardizing the data, it becomes normally distributed with\n",
        "## the center being 0 and the resulting values in the 'Scaled' column are how\n",
        "## many standard deviations away from the center a particular observation is)"
      ],
      "metadata": {
        "id": "H9RIfHCNrTuU",
        "colab": {
          "base_uri": "https://localhost:8080/"
        },
        "outputId": "f51a35d5-954b-40b6-e38d-f40308b19b3c"
      },
      "execution_count": 33,
      "outputs": [
        {
          "output_type": "stream",
          "name": "stderr",
          "text": [
            "<ipython-input-33-d6cb867be229>:3: SettingWithCopyWarning: \n",
            "A value is trying to be set on a copy of a slice from a DataFrame.\n",
            "Try using .loc[row_indexer,col_indexer] = value instead\n",
            "\n",
            "See the caveats in the documentation: https://pandas.pydata.org/pandas-docs/stable/user_guide/indexing.html#returning-a-view-versus-a-copy\n",
            "  e1['Scaled'] = (e1['Reps'] - np.mean(e1['Reps']))/np.std(e1['Reps'])\n",
            "<ipython-input-33-d6cb867be229>:4: SettingWithCopyWarning: \n",
            "A value is trying to be set on a copy of a slice from a DataFrame.\n",
            "Try using .loc[row_indexer,col_indexer] = value instead\n",
            "\n",
            "See the caveats in the documentation: https://pandas.pydata.org/pandas-docs/stable/user_guide/indexing.html#returning-a-view-versus-a-copy\n",
            "  e2['Scaled'] = (e2['Reps'] - np.mean(e2['Reps']))/np.std(e2['Reps'])\n",
            "<ipython-input-33-d6cb867be229>:5: SettingWithCopyWarning: \n",
            "A value is trying to be set on a copy of a slice from a DataFrame.\n",
            "Try using .loc[row_indexer,col_indexer] = value instead\n",
            "\n",
            "See the caveats in the documentation: https://pandas.pydata.org/pandas-docs/stable/user_guide/indexing.html#returning-a-view-versus-a-copy\n",
            "  e3['Scaled'] = (e3['Reps'] - np.mean(e3['Reps']))/np.std(e3['Reps'])\n",
            "<ipython-input-33-d6cb867be229>:6: SettingWithCopyWarning: \n",
            "A value is trying to be set on a copy of a slice from a DataFrame.\n",
            "Try using .loc[row_indexer,col_indexer] = value instead\n",
            "\n",
            "See the caveats in the documentation: https://pandas.pydata.org/pandas-docs/stable/user_guide/indexing.html#returning-a-view-versus-a-copy\n",
            "  e4['Scaled'] = (e4['Reps'] - np.mean(e4['Reps']))/np.std(e4['Reps'])\n",
            "<ipython-input-33-d6cb867be229>:7: SettingWithCopyWarning: \n",
            "A value is trying to be set on a copy of a slice from a DataFrame.\n",
            "Try using .loc[row_indexer,col_indexer] = value instead\n",
            "\n",
            "See the caveats in the documentation: https://pandas.pydata.org/pandas-docs/stable/user_guide/indexing.html#returning-a-view-versus-a-copy\n",
            "  e5['Scaled'] = (e5['Reps'] - np.mean(e5['Reps']))/np.std(e5['Reps'])\n"
          ]
        }
      ]
    },
    {
      "cell_type": "markdown",
      "source": [
        "Similar to SAT scoring, where the highest possible scores correspond to the 99th percentile, I define an exceptional number of reps for a calisthenics exercise as being in the 99th percentile."
      ],
      "metadata": {
        "id": "jYKkwJBow9LP"
      }
    },
    {
      "cell_type": "code",
      "source": [
        "## Since the goal is to have the average person score around a 500 and an\n",
        "## exceptional score being a 1000 (based on how I define exceptional),\n",
        "\n",
        "# calculate the standard deviation for the 99th percentile to correspond to 1000\n",
        "# as an exceptional score and the mean to be 500\n",
        "Z = 2.326 #(the z-score for the 99th percentile z-score for normal distribution)\n",
        "mean = 500\n",
        "X = 1000\n",
        "sigma = (X - mean) / Z\n",
        "\n",
        "# scale the normally distributed data for each exercise accordingly\n",
        "e1['Scaled'] = e1['Scaled'] * sigma + 500\n",
        "e2['Scaled'] = e2['Scaled'] * sigma + 500\n",
        "e3['Scaled'] = e3['Scaled'] * sigma + 500\n",
        "e4['Scaled'] = e4['Scaled'] * sigma + 500\n",
        "e5['Scaled'] = e5['Scaled'] * sigma + 500"
      ],
      "metadata": {
        "colab": {
          "base_uri": "https://localhost:8080/"
        },
        "id": "W6dz5pdaic-Z",
        "outputId": "f5e0195d-5e23-4054-c106-1f566cd401b5"
      },
      "execution_count": 34,
      "outputs": [
        {
          "output_type": "stream",
          "name": "stderr",
          "text": [
            "<ipython-input-34-6c6ccf307837>:12: SettingWithCopyWarning: \n",
            "A value is trying to be set on a copy of a slice from a DataFrame.\n",
            "Try using .loc[row_indexer,col_indexer] = value instead\n",
            "\n",
            "See the caveats in the documentation: https://pandas.pydata.org/pandas-docs/stable/user_guide/indexing.html#returning-a-view-versus-a-copy\n",
            "  e1['Scaled'] = e1['Scaled'] * sigma + 500\n",
            "<ipython-input-34-6c6ccf307837>:13: SettingWithCopyWarning: \n",
            "A value is trying to be set on a copy of a slice from a DataFrame.\n",
            "Try using .loc[row_indexer,col_indexer] = value instead\n",
            "\n",
            "See the caveats in the documentation: https://pandas.pydata.org/pandas-docs/stable/user_guide/indexing.html#returning-a-view-versus-a-copy\n",
            "  e2['Scaled'] = e2['Scaled'] * sigma + 500\n",
            "<ipython-input-34-6c6ccf307837>:14: SettingWithCopyWarning: \n",
            "A value is trying to be set on a copy of a slice from a DataFrame.\n",
            "Try using .loc[row_indexer,col_indexer] = value instead\n",
            "\n",
            "See the caveats in the documentation: https://pandas.pydata.org/pandas-docs/stable/user_guide/indexing.html#returning-a-view-versus-a-copy\n",
            "  e3['Scaled'] = e3['Scaled'] * sigma + 500\n",
            "<ipython-input-34-6c6ccf307837>:15: SettingWithCopyWarning: \n",
            "A value is trying to be set on a copy of a slice from a DataFrame.\n",
            "Try using .loc[row_indexer,col_indexer] = value instead\n",
            "\n",
            "See the caveats in the documentation: https://pandas.pydata.org/pandas-docs/stable/user_guide/indexing.html#returning-a-view-versus-a-copy\n",
            "  e4['Scaled'] = e4['Scaled'] * sigma + 500\n",
            "<ipython-input-34-6c6ccf307837>:16: SettingWithCopyWarning: \n",
            "A value is trying to be set on a copy of a slice from a DataFrame.\n",
            "Try using .loc[row_indexer,col_indexer] = value instead\n",
            "\n",
            "See the caveats in the documentation: https://pandas.pydata.org/pandas-docs/stable/user_guide/indexing.html#returning-a-view-versus-a-copy\n",
            "  e5['Scaled'] = e5['Scaled'] * sigma + 500\n"
          ]
        }
      ]
    },
    {
      "cell_type": "code",
      "source": [
        "## Dividing each score by the number of reps to get the score value of each rep:\n",
        "\n",
        "val1 = e1['Scaled']/e1['Reps']\n",
        "val1[val1 == inf] = 0\n",
        "scale1 = np.mean(val1)\n",
        "\n",
        "val2 = e2['Scaled']/e2['Reps']\n",
        "val2[val2 == inf] = 0\n",
        "scale2 = np.mean(val2)\n",
        "\n",
        "val3 = e3['Scaled']/e3['Reps']\n",
        "val3[val3 == inf] = 0\n",
        "scale3 = np.mean(val3)\n",
        "\n",
        "val4 = e4['Scaled']/e4['Reps']\n",
        "val4[val4 == inf] = 0\n",
        "scale4 = np.mean(val4)\n",
        "\n",
        "val5 = e5['Scaled']/e5['Reps']\n",
        "val5[val5 == inf] = 0\n",
        "scale5 = np.mean(val5)"
      ],
      "metadata": {
        "id": "o7OlUVP9XHOY"
      },
      "execution_count": 35,
      "outputs": []
    },
    {
      "cell_type": "code",
      "source": [
        "print(\"five weights (one for each exercise):\",\n",
        "      scale1, scale2, scale3, scale4, scale5)"
      ],
      "metadata": {
        "colab": {
          "base_uri": "https://localhost:8080/"
        },
        "id": "P5hBLoEUjKh3",
        "outputId": "20ce6b50-8318-441d-d8a4-aa10b12f1d40"
      },
      "execution_count": 36,
      "outputs": [
        {
          "output_type": "stream",
          "name": "stdout",
          "text": [
            "five weights (one for each exercise): 11.674819867301057 8.840234420335218 26.350668561436695 6.944608578038166 5.085105812655719\n"
          ]
        }
      ]
    }
  ],
  "metadata": {
    "colab": {
      "provenance": []
    },
    "kernelspec": {
      "display_name": "Python 3",
      "name": "python3"
    },
    "language_info": {
      "name": "python"
    }
  },
  "nbformat": 4,
  "nbformat_minor": 0
}